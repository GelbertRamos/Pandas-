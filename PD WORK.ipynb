{
 "cells": [
  {
   "cell_type": "code",
   "execution_count": 1,
   "id": "b18b2611",
   "metadata": {},
   "outputs": [],
   "source": [
    "pop = [30.50, 2.77, 39.21]\n",
    "countries = [\"afghanistan\", \"albania\", \"algeria\"]\n",
    "\n",
    "world = {\"afghanistan\":30.50 , \"albania\":2.77, \"algeria\":39.21}\n",
    "\n"
   ]
  },
  {
   "cell_type": "code",
   "execution_count": 2,
   "id": "664607a3",
   "metadata": {},
   "outputs": [
    {
     "data": {
      "text/plain": [
       "{'afghanistan': 30.5, 'albania': 2.77, 'algeria': 39.21}"
      ]
     },
     "execution_count": 2,
     "metadata": {},
     "output_type": "execute_result"
    }
   ],
   "source": [
    "world"
   ]
  },
  {
   "cell_type": "code",
   "execution_count": 3,
   "id": "9f0ee5d8",
   "metadata": {},
   "outputs": [
    {
     "data": {
      "text/plain": [
       "2.77"
      ]
     },
     "execution_count": 3,
     "metadata": {},
     "output_type": "execute_result"
    }
   ],
   "source": [
    "world[\"albania\"]"
   ]
  },
  {
   "cell_type": "code",
   "execution_count": 4,
   "id": "32fe96f1",
   "metadata": {},
   "outputs": [],
   "source": [
    "countries = ['spain', 'france', 'germany', 'norway']\n",
    "capitals = ['madrid', 'paris', 'berlin', 'oslo']\n",
    "\n"
   ]
  },
  {
   "cell_type": "code",
   "execution_count": 5,
   "id": "bfd1756c",
   "metadata": {},
   "outputs": [],
   "source": [
    "# Get index of 'germany': ind_ger\n",
    "ind_ger = countries.index('germany')"
   ]
  },
  {
   "cell_type": "code",
   "execution_count": 6,
   "id": "f949d2e5",
   "metadata": {},
   "outputs": [
    {
     "name": "stdout",
     "output_type": "stream",
     "text": [
      "berlin\n"
     ]
    }
   ],
   "source": [
    "# Use ind_ger to print out capital of Germany\n",
    "print(capitals[ind_ger])"
   ]
  },
  {
   "cell_type": "code",
   "execution_count": 7,
   "id": "82db6098",
   "metadata": {},
   "outputs": [
    {
     "name": "stdout",
     "output_type": "stream",
     "text": [
      "dict_keys(['spain', 'france', 'germany', 'norway'])\n",
      "oslo\n"
     ]
    }
   ],
   "source": [
    "# Definition of dictionary\n",
    "europe = {'spain':'madrid', 'france':'paris', 'germany':'berlin', 'norway':'oslo' }\n",
    "\n",
    "# Print out the keys in europe\n",
    "print(europe.keys())\n",
    "\n",
    "# Print out value that belongs to key 'norway'\n",
    "print(europe['norway'])"
   ]
  },
  {
   "cell_type": "markdown",
   "id": "35027c32",
   "metadata": {},
   "source": [
    "Part 2"
   ]
  },
  {
   "cell_type": "code",
   "execution_count": 8,
   "id": "b2d45498",
   "metadata": {},
   "outputs": [],
   "source": [
    "world = {\"afghanistan\":30.50 , \"albania\":2.77, \"algeria\":39.21, \"colombia\":23.4}"
   ]
  },
  {
   "cell_type": "code",
   "execution_count": 9,
   "id": "db625136",
   "metadata": {},
   "outputs": [
    {
     "data": {
      "text/plain": [
       "{'afghanistan': 30.5, 'albania': 2.77, 'algeria': 39.21, 'colombia': 23.4}"
      ]
     },
     "execution_count": 9,
     "metadata": {},
     "output_type": "execute_result"
    }
   ],
   "source": [
    "world\n",
    "# if you want to delete sometinhg"
   ]
  },
  {
   "cell_type": "code",
   "execution_count": 10,
   "id": "4e03d5ab",
   "metadata": {},
   "outputs": [],
   "source": [
    "del(world[\"colombia\"])"
   ]
  },
  {
   "cell_type": "code",
   "execution_count": 11,
   "id": "aba5e580",
   "metadata": {},
   "outputs": [
    {
     "data": {
      "text/plain": [
       "{'afghanistan': 30.5, 'albania': 2.77, 'algeria': 39.21}"
      ]
     },
     "execution_count": 11,
     "metadata": {},
     "output_type": "execute_result"
    }
   ],
   "source": [
    "world"
   ]
  },
  {
   "cell_type": "code",
   "execution_count": 12,
   "id": "dfdd32bc",
   "metadata": {},
   "outputs": [
    {
     "data": {
      "text/plain": [
       "{'capital': 'paris', 'population': 66.03}"
      ]
     },
     "execution_count": 12,
     "metadata": {},
     "output_type": "execute_result"
    }
   ],
   "source": [
    "# Dictionary of dictionaries\n",
    "europe = { 'spain': { 'capital':'madrid', 'population':46.77 },\n",
    "           'france': { 'capital':'paris', 'population':66.03 },\n",
    "           'germany': { 'capital':'berlin', 'population':80.62 },\n",
    "           'norway': { 'capital':'oslo', 'population':5.084 } }\n",
    "\n",
    "\n",
    "# Print out the capital of France\n",
    "europe[\"france\"]\n",
    "\n",
    "# Create sub-dictionary data\n",
    "\n",
    "\n",
    "# Add data to europe under key 'italy'\n",
    "\n",
    "\n",
    "# Print europe"
   ]
  },
  {
   "cell_type": "code",
   "execution_count": 13,
   "id": "21a727e8",
   "metadata": {},
   "outputs": [
    {
     "name": "stdout",
     "output_type": "stream",
     "text": [
      "paris\n",
      "{'spain': {'capital': 'madrid', 'population': 46.77}, 'france': {'capital': 'paris', 'population': 66.03}, 'germany': {'capital': 'berlin', 'population': 80.62}, 'norway': {'capital': 'oslo', 'population': 5.084}, 'italy': {'capital': 'rome', 'population': 59.83}}\n"
     ]
    }
   ],
   "source": [
    "# Dictionary of dictionaries\n",
    "europe = { 'spain': { 'capital':'madrid', 'population':46.77 },\n",
    "           'france': { 'capital':'paris', 'population':66.03 },\n",
    "           'germany': { 'capital':'berlin', 'population':80.62 },\n",
    "           'norway': { 'capital':'oslo', 'population':5.084 } }\n",
    "\n",
    "\n",
    "# Print out the capital of France\n",
    "print(europe['france']['capital'])\n",
    "\n",
    "# Create sub-dictionary data\n",
    "data = { 'capital':'rome', 'population':59.83 }\n",
    "\n",
    "# Add data to europe under key 'italy'\n",
    "europe['italy'] = data\n",
    "\n",
    "# Print europe\n",
    "print(europe)"
   ]
  },
  {
   "cell_type": "code",
   "execution_count": 18,
   "id": "05a520f8",
   "metadata": {},
   "outputs": [
    {
     "name": "stdout",
     "output_type": "stream",
     "text": [
      "         country  drives_right  cars_per_cap\n",
      "0  United States          True           809\n",
      "1      Australia         False           731\n",
      "2          Japan         False           588\n",
      "3          India         False            18\n",
      "4         Russia          True           200\n",
      "5        Morocco          True            70\n",
      "6          Egypt          True            45\n"
     ]
    }
   ],
   "source": [
    "# Pre-defined lists\n",
    "names = ['United States', 'Australia', 'Japan', 'India', 'Russia', 'Morocco', 'Egypt']\n",
    "dr =  [True, False, False, False, True, True, True]\n",
    "cpc = [809, 731, 588, 18, 200, 70, 45]\n",
    "\n",
    "# Import pandas as pd\n",
    "import pandas as pd\n",
    "\n",
    "# Create dictionary my_dict with three key:value pairs: my_dict\n",
    "my_dict = { 'country':names, 'drives_right':dr, 'cars_per_cap':cpc }\n",
    "\n",
    "# Build a DataFrame cars from my_dict: cars\n",
    "cars = pd.DataFrame(my_dict)\n",
    "\n",
    "# Print cars\n",
    "print(cars)"
   ]
  },
  {
   "cell_type": "code",
   "execution_count": 20,
   "id": "d58891fb",
   "metadata": {},
   "outputs": [
    {
     "name": "stdout",
     "output_type": "stream",
     "text": [
      "  country_ab  cars_per_cap        country  drives_right\n",
      "0         US           809  United States          True\n",
      "1        AUS           731      Australia         False\n",
      "2        JAP           588          Japan         False\n",
      "3         IN            18          India         False\n",
      "4         RU           200         Russia          True\n",
      "5        MOR            70        Morocco          True\n",
      "6         EG            45          Egypt          True\n"
     ]
    }
   ],
   "source": [
    "# Import pandas as pd\n",
    "import pandas as pd\n",
    "\n",
    "# Import the cars.csv data: cars\n",
    "cars = pd.read_csv(r'C:\\Users\\gelra\\Downloads\\cars.csv')\n",
    "\n",
    "# Print out cars\n",
    "print(cars)\n",
    "\n"
   ]
  },
  {
   "cell_type": "code",
   "execution_count": 21,
   "id": "6f378b41",
   "metadata": {},
   "outputs": [
    {
     "name": "stdout",
     "output_type": "stream",
     "text": [
      "            cars_per_cap        country  drives_right\n",
      "country_ab                                           \n",
      "US                   809  United States          True\n",
      "RU                   200         Russia          True\n",
      "MOR                   70        Morocco          True\n",
      "EG                    45          Egypt          True\n"
     ]
    }
   ],
   "source": [
    "# Import cars data\n",
    "import pandas as pd\n",
    "cars = pd.read_csv(r'C:\\Users\\gelra\\Downloads\\cars.csv', index_col = 0)\n",
    "\n",
    "# Extract drives_right column as Series: dr\n",
    "dr = cars['drives_right']\n",
    "\n",
    "# Use dr to subset cars: sel\n",
    "sel = cars[dr]\n",
    "\n",
    "# Print sel\n",
    "print(sel)"
   ]
  },
  {
   "cell_type": "code",
   "execution_count": 22,
   "id": "31743010",
   "metadata": {},
   "outputs": [
    {
     "name": "stdout",
     "output_type": "stream",
     "text": [
      "False\n",
      "True\n",
      "True\n"
     ]
    }
   ],
   "source": [
    "# Define variables\n",
    "my_kitchen = 18.0\n",
    "your_kitchen = 14.0\n",
    "\n",
    "# my_kitchen bigger than 10 and smaller than 18?\n",
    "print(my_kitchen > 10 and my_kitchen < 18)\n",
    "\n",
    "# my_kitchen smaller than 14 or bigger than 17?\n",
    "print(my_kitchen < 14 or my_kitchen > 17)\n",
    "\n",
    "# Double my_kitchen smaller than triple your_kitchen?\n",
    "print(my_kitchen * 2 < your_kitchen * 3)"
   ]
  },
  {
   "cell_type": "code",
   "execution_count": 23,
   "id": "c4f8feb6",
   "metadata": {},
   "outputs": [
    {
     "name": "stdout",
     "output_type": "stream",
     "text": [
      "looking around in the kitchen.\n"
     ]
    }
   ],
   "source": [
    "# Define variables\n",
    "room = \"kit\"\n",
    "area = 14.0\n",
    "\n",
    "# if statement for room\n",
    "if room == \"kit\" :\n",
    "    print(\"looking around in the kitchen.\")\n",
    "\n",
    "# if statement for area\n",
    "if area > 15 : \n",
    "    print(\"big place!\")"
   ]
  },
  {
   "cell_type": "code",
   "execution_count": 24,
   "id": "e8c4faa3",
   "metadata": {},
   "outputs": [
    {
     "name": "stdout",
     "output_type": "stream",
     "text": [
      "looking around in the kitchen.\n",
      "pretty small.\n"
     ]
    }
   ],
   "source": [
    "# Define variables\n",
    "room = \"kit\"\n",
    "area = 14.0\n",
    "\n",
    "# if-else construct for room\n",
    "if room == \"kit\" :\n",
    "    print(\"looking around in the kitchen.\")\n",
    "else :\n",
    "    print(\"looking around elsewhere.\")\n",
    "\n",
    "# if-else construct for area :\n",
    "if area > 15 :\n",
    "    print(\"big place!\")\n",
    "else :\n",
    "    print(\"pretty small.\")"
   ]
  },
  {
   "cell_type": "code",
   "execution_count": 25,
   "id": "3757aeda",
   "metadata": {},
   "outputs": [
    {
     "ename": "SyntaxError",
     "evalue": "invalid syntax (296811307.py, line 18)",
     "output_type": "error",
     "traceback": [
      "\u001b[1;36m  Cell \u001b[1;32mIn[25], line 18\u001b[1;36m\u001b[0m\n\u001b[1;33m    elif area > 10 :\u001b[0m\n\u001b[1;37m    ^\u001b[0m\n\u001b[1;31mSyntaxError\u001b[0m\u001b[1;31m:\u001b[0m invalid syntax\n"
     ]
    }
   ],
   "source": [
    "# Define variables\n",
    "room = \"bed\"\n",
    "area = 14.0\n",
    "\n",
    "# if-elif-else construct for room\n",
    "if room == \"kit\" :\n",
    "    print(\"looking around in the kitchen.\")\n",
    "elif room == \"bed\":\n",
    "    print(\"looking around in the bedroom.\")\n",
    "else :\n",
    "    print(\"looking around elsewhere.\")\n",
    "\n",
    "# if-elif-else construct for area\n",
    "if area > 15 :\n",
    "    print(\"big place!\")\n",
    "else :\n",
    "    print(\"pretty small.\")\n",
    "elif area > 10 :\n",
    "    print(\"medium size,mice!\")"
   ]
  },
  {
   "cell_type": "code",
   "execution_count": 26,
   "id": "90d80232",
   "metadata": {},
   "outputs": [
    {
     "name": "stdout",
     "output_type": "stream",
     "text": [
      "looking around in the bedroom.\n",
      "medium size, nice!\n"
     ]
    }
   ],
   "source": [
    "# Define variables\n",
    "room = \"bed\"\n",
    "area = 14.0\n",
    "\n",
    "# if-elif-else construct for room\n",
    "if room == \"kit\" :\n",
    "    print(\"looking around in the kitchen.\")\n",
    "elif room == \"bed\":\n",
    "    print(\"looking around in the bedroom.\")\n",
    "else :\n",
    "    print(\"looking around elsewhere.\")\n",
    "\n",
    "# if-elif-else construct for area\n",
    "if area > 15 :\n",
    "    print(\"big place!\")\n",
    "elif area > 10 :\n",
    "    print(\"medium size, nice!\")\n",
    "else :\n",
    "    print(\"pretty small.\")"
   ]
  },
  {
   "cell_type": "code",
   "execution_count": 27,
   "id": "80bfab0a",
   "metadata": {},
   "outputs": [
    {
     "name": "stdout",
     "output_type": "stream",
     "text": [
      "index0: 1.73\n",
      "index1: 1.68\n",
      "index2: 1.71\n",
      "index3: 1.89\n"
     ]
    }
   ],
   "source": [
    "fam = [1.73, 1.68, 1.71, 1.89]\n",
    "for index, height in enumerate(fam) :\n",
    "    print(\"index\" + str(index) + \": \" + str(height))"
   ]
  },
  {
   "cell_type": "code",
   "execution_count": 28,
   "id": "2a249883",
   "metadata": {},
   "outputs": [
    {
     "name": "stdout",
     "output_type": "stream",
     "text": [
      " \n",
      "F\n",
      "A\n",
      "M\n",
      "I\n",
      "L\n",
      "Y\n"
     ]
    }
   ],
   "source": [
    "for c in \" family\" :\n",
    "    print(c.capitalize())"
   ]
  },
  {
   "cell_type": "code",
   "execution_count": 29,
   "id": "912b12a4",
   "metadata": {},
   "outputs": [
    {
     "name": "stdout",
     "output_type": "stream",
     "text": [
      "[1.73, 1.68, 1.71, 1.89]\n"
     ]
    }
   ],
   "source": [
    "fam = [1.73, 1.68, 1.71, 1.89]\n",
    "print(fam)"
   ]
  },
  {
   "cell_type": "code",
   "execution_count": 30,
   "id": "859509cc",
   "metadata": {},
   "outputs": [
    {
     "name": "stdout",
     "output_type": "stream",
     "text": [
      "room 1: 11.25\n",
      "room 2: 18.0\n",
      "room 3: 20.0\n",
      "room 4: 10.75\n",
      "room 5: 9.5\n"
     ]
    }
   ],
   "source": [
    "# areas list\n",
    "areas = [11.25, 18.0, 20.0, 10.75, 9.50]\n",
    "\n",
    "# Adapt the printout\n",
    "for index, area in enumerate(areas) :\n",
    "    print(\"room \" + str(index + 1) + \": \" + str(area))"
   ]
  },
  {
   "cell_type": "code",
   "execution_count": 31,
   "id": "9106da59",
   "metadata": {},
   "outputs": [
    {
     "name": "stdout",
     "output_type": "stream",
     "text": [
      "room 0: 11.25\n",
      "room 1: 18.0\n",
      "room 2: 20.0\n",
      "room 3: 10.75\n",
      "room 4: 9.5\n"
     ]
    }
   ],
   "source": [
    "# areas list\n",
    "areas = [11.25, 18.0, 20.0, 10.75, 9.50]\n",
    "\n",
    "# Change for loop to use enumerate() and update print()\n",
    "for index, area in enumerate(areas) :\n",
    "    print(\"room \" + str(index) + \": \" + str(area))"
   ]
  },
  {
   "cell_type": "code",
   "execution_count": 32,
   "id": "1ab89683",
   "metadata": {},
   "outputs": [
    {
     "name": "stdout",
     "output_type": "stream",
     "text": [
      "the hallway is 11.25 sqm\n",
      "the kitchen is 18.0 sqm\n",
      "the living room is 20.0 sqm\n",
      "the bedroom is 10.75 sqm\n",
      "the bathroom is 9.5 sqm\n"
     ]
    }
   ],
   "source": [
    "# house list of lists\n",
    "house = [[\"hallway\", 11.25], \n",
    "         [\"kitchen\", 18.0], \n",
    "         [\"living room\", 20.0], \n",
    "         [\"bedroom\", 10.75], \n",
    "         [\"bathroom\", 9.50]]\n",
    "         \n",
    "# Build a for loop from scratch\n",
    "for x in house :\n",
    "    print(\"the \" + x[0] + \" is \" + str(x[1]) + \" sqm\")"
   ]
  },
  {
   "cell_type": "code",
   "execution_count": 33,
   "id": "11ca9f60",
   "metadata": {},
   "outputs": [
    {
     "name": "stdout",
     "output_type": "stream",
     "text": [
      "the capital of spain is madrid\n",
      "the capital of france is paris\n",
      "the capital of germany is berlin\n",
      "the capital of norway is oslo\n",
      "the capital of italy is rome\n",
      "the capital of poland is warsaw\n",
      "the capital of austria is vienna\n"
     ]
    }
   ],
   "source": [
    "# Definition of dictionary\n",
    "europe = {'spain':'madrid', 'france':'paris', 'germany':'berlin',\n",
    "          'norway':'oslo', 'italy':'rome', 'poland':'warsaw', 'austria':'vienna' }\n",
    "          \n",
    "# Iterate over europe\n",
    "for key, value in europe.items() :\n",
    "     print(\"the capital of \" + str(key) + \" is \" + str(value))"
   ]
  },
  {
   "cell_type": "code",
   "execution_count": 34,
   "id": "4321b648",
   "metadata": {},
   "outputs": [
    {
     "name": "stdout",
     "output_type": "stream",
     "text": [
      "afghanistan=30.55\n",
      "albania=2.77\n",
      "algeria=39.21\n"
     ]
    }
   ],
   "source": [
    "world = { \"afghanistan\": 30.55,\n",
    "        \"albania\":2.77,\n",
    "        \"algeria\":39.21 }\n",
    "\n",
    "for key, value in world.items() :\n",
    "    print(key + \"=\" + str(value))"
   ]
  },
  {
   "cell_type": "code",
   "execution_count": 1,
   "id": "3a0de9fd",
   "metadata": {},
   "outputs": [
    {
     "name": "stdout",
     "output_type": "stream",
     "text": [
      "BR\n",
      "country         Brazil\n",
      "capital       Brasilia\n",
      "area             8.516\n",
      "population       200.4\n",
      "Name: BR, dtype: object\n",
      "RU\n",
      "country       Russia\n",
      "capital       Moscow\n",
      "area            17.1\n",
      "population     143.5\n",
      "Name: RU, dtype: object\n",
      "IN\n",
      "country           India\n",
      "capital       New Delhi\n",
      "area              3.286\n",
      "population       1252.0\n",
      "Name: IN, dtype: object\n",
      "CH\n",
      "country         China\n",
      "capital       Beijing\n",
      "area            9.597\n",
      "population     1357.0\n",
      "Name: CH, dtype: object\n",
      "SA\n",
      "country       South Africa\n",
      "capital           Pretoria\n",
      "area                 1.221\n",
      "population           52.98\n",
      "Name: SA, dtype: object\n"
     ]
    }
   ],
   "source": [
    "# iterrows()\n",
    "import pandas as pd \n",
    "brics = pd.read_csv(r\"C:\\Users\\gelra\\Downloads\\brics.csv\", index_col = 0)\n",
    "\n",
    "for lab, row in brics.iterrows():\n",
    "    print(lab)\n",
    "    print(row)\n"
   ]
  },
  {
   "cell_type": "code",
   "execution_count": 2,
   "id": "cba01598",
   "metadata": {},
   "outputs": [
    {
     "name": "stdout",
     "output_type": "stream",
     "text": [
      "                 country    capital    area  population  name_length\n",
      "country_ab                                                          \n",
      "BR                Brazil   Brasilia   8.516      200.40            6\n",
      "RU                Russia     Moscow  17.100      143.50            6\n",
      "IN                 India  New Delhi   3.286     1252.00            5\n",
      "CH                 China    Beijing   9.597     1357.00            5\n",
      "SA          South Africa   Pretoria   1.221       52.98           12\n"
     ]
    }
   ],
   "source": [
    "# iterrows()\n",
    "import pandas as pd \n",
    "brics = pd.read_csv(r\"C:\\Users\\gelra\\Downloads\\brics.csv\", index_col = 0)\n",
    "\n",
    "brics[\"name_length\"] = brics[\"country\"].apply(len)\n",
    "print(brics)\n"
   ]
  },
  {
   "cell_type": "code",
   "execution_count": 6,
   "id": "14ec8bc4",
   "metadata": {
    "scrolled": true
   },
   "outputs": [
    {
     "name": "stdout",
     "output_type": "stream",
     "text": [
      "            cars_per_cap        country  drives_right        COUNTRY\n",
      "country_ab                                                          \n",
      "US                   809  United States          True  UNITED STATES\n",
      "AUS                  731      Australia         False      AUSTRALIA\n",
      "JAP                  588          Japan         False          JAPAN\n",
      "IN                    18          India         False          INDIA\n",
      "RU                   200         Russia          True         RUSSIA\n",
      "MOR                   70        Morocco          True        MOROCCO\n",
      "EG                    45          Egypt          True          EGYPT\n"
     ]
    }
   ],
   "source": [
    "# Import cars data\n",
    "import pandas as pd\n",
    "cars = pd.read_csv(r'C:\\Users\\gelra\\Downloads\\cars.csv', index_col = 0)\n",
    "\n",
    "# Code for loop that adds COUNTRY column\n",
    "for lab, row in cars.iterrows() :\n",
    "    cars.loc[lab, \"COUNTRY\"] = row[\"country\"].upper()\n",
    "    \n",
    "# Print cars\n",
    "print(cars)"
   ]
  },
  {
   "cell_type": "code",
   "execution_count": 7,
   "id": "04d1846f",
   "metadata": {},
   "outputs": [
    {
     "ename": "AttributeError",
     "evalue": "module 'numpy' has no attribute 'ramdom'",
     "output_type": "error",
     "traceback": [
      "\u001b[1;31m---------------------------------------------------------------------------\u001b[0m",
      "\u001b[1;31mAttributeError\u001b[0m                            Traceback (most recent call last)",
      "Cell \u001b[1;32mIn[7], line 5\u001b[0m\n\u001b[0;32m      2\u001b[0m \u001b[38;5;28;01mimport\u001b[39;00m \u001b[38;5;21;01mnumpy\u001b[39;00m \u001b[38;5;28;01mas\u001b[39;00m \u001b[38;5;21;01mnp\u001b[39;00m\n\u001b[0;32m      4\u001b[0m \u001b[38;5;66;03m# Set the seed\u001b[39;00m\n\u001b[1;32m----> 5\u001b[0m np\u001b[38;5;241m.\u001b[39mramdom\u001b[38;5;241m.\u001b[39mseed(\u001b[38;5;241m123\u001b[39m)\n\u001b[0;32m      7\u001b[0m \u001b[38;5;66;03m# Generate and print random float\u001b[39;00m\n\u001b[0;32m      8\u001b[0m \u001b[38;5;28mprint\u001b[39m(np\u001b[38;5;241m.\u001b[39mramdom\u001b[38;5;241m.\u001b[39mrand())\n",
      "File \u001b[1;32m~\\anaconda3\\Lib\\site-packages\\numpy\\__init__.py:320\u001b[0m, in \u001b[0;36m__getattr__\u001b[1;34m(attr)\u001b[0m\n\u001b[0;32m    317\u001b[0m     \u001b[38;5;28;01mfrom\u001b[39;00m \u001b[38;5;21;01m.\u001b[39;00m\u001b[38;5;21;01mtesting\u001b[39;00m \u001b[38;5;28;01mimport\u001b[39;00m Tester\n\u001b[0;32m    318\u001b[0m     \u001b[38;5;28;01mreturn\u001b[39;00m Tester\n\u001b[1;32m--> 320\u001b[0m \u001b[38;5;28;01mraise\u001b[39;00m \u001b[38;5;167;01mAttributeError\u001b[39;00m(\u001b[38;5;124m\"\u001b[39m\u001b[38;5;124mmodule \u001b[39m\u001b[38;5;132;01m{!r}\u001b[39;00m\u001b[38;5;124m has no attribute \u001b[39m\u001b[38;5;124m\"\u001b[39m\n\u001b[0;32m    321\u001b[0m                      \u001b[38;5;124m\"\u001b[39m\u001b[38;5;132;01m{!r}\u001b[39;00m\u001b[38;5;124m\"\u001b[39m\u001b[38;5;241m.\u001b[39mformat(\u001b[38;5;18m__name__\u001b[39m, attr))\n",
      "\u001b[1;31mAttributeError\u001b[0m: module 'numpy' has no attribute 'ramdom'"
     ]
    }
   ],
   "source": [
    "# Import numpy as np\n",
    "import numpy as np\n",
    "\n",
    "# Set the seed\n",
    "np.ramdom.seed(123)\n",
    "\n",
    "# Generate and print random float\n",
    "print(np.ramdom.rand())"
   ]
  },
  {
   "cell_type": "code",
   "execution_count": null,
   "id": "9b87fdcc",
   "metadata": {},
   "outputs": [],
   "source": [
    "# Import numpy and set seed\n",
    "import numpy as np\n",
    "np.random.seed(123)\n",
    "\n",
    "# Use randint() to simulate a dice\n",
    "print(np.random.randint(1,7))\n",
    "\n",
    "# Use randint() again\n",
    "print(np.random.randint(1,7))"
   ]
  },
  {
   "cell_type": "code",
   "execution_count": null,
   "id": "9d16160d",
   "metadata": {},
   "outputs": [],
   "source": [
    "# NumPy is imported, seed is set\n",
    "\n",
    "# Initialize random_walk\n",
    "\n",
    "\n",
    "# Complete the ___\n",
    "for x in ___(___) :\n",
    "    # Set step: last element in random_walk\n",
    "    ___\n",
    "\n",
    "    # Roll the dice\n",
    "    dice = np.random.randint(1,7)\n",
    "\n",
    "    # Determine next step\n",
    "    if dice <= 2:\n",
    "        step = step - 1\n",
    "    elif dice <= 5:\n",
    "        step = step + 1\n",
    "    else:\n",
    "        step = step + np.random.randint(1,7)\n",
    "\n",
    "    # append next_step to random_walk\n",
    "    random_walk.append(step)\n",
    "\n",
    "# Print random_walk\n"
   ]
  },
  {
   "cell_type": "code",
   "execution_count": null,
   "id": "5ac6bb93",
   "metadata": {},
   "outputs": [],
   "source": [
    "# NumPy is imported, seed is set\n",
    "\n",
    "# Initialize random_walk\n",
    "random_walk = [0]\n",
    "\n",
    "# Complete the ___\n",
    "for x in range(100) :\n",
    "    # Set step: last element in random_walk\n",
    "    step = random_walk[-1]\n",
    "\n",
    "    # Roll the dice\n",
    "    dice = np.random.randint(1,7)\n",
    "\n",
    "    # Determine next step\n",
    "    if dice <= 2:\n",
    "        step = step - 1\n",
    "    elif dice <= 5:\n",
    "        step = step + 1\n",
    "    else:\n",
    "        step = step + np.random.randint(1,7)\n",
    "\n",
    "    # append next_step to random_walk\n",
    "    random_walk.append(step)\n",
    "\n",
    "# Print random_walk\n",
    "print(random_walk)"
   ]
  },
  {
   "cell_type": "code",
   "execution_count": null,
   "id": "3a3a38cb",
   "metadata": {},
   "outputs": [],
   "source": [
    "# NumPy is imported, seed is set\n",
    "\n",
    "# Initialization\n",
    "random_walk = [0]\n",
    "\n",
    "for x in range(100) :\n",
    "    step = random_walk[-1]\n",
    "    dice = np.random.randint(1,7)\n",
    "\n",
    "    if dice <= 2:\n",
    "        step = max(0, step - 1)\n",
    "    elif dice <= 5:\n",
    "        step = step + 1\n",
    "    else:\n",
    "        step = step + np.random.randint(1,7)\n",
    "\n",
    "    random_walk.append(step)\n",
    "\n",
    "# Import matplotlib.pyplot as plt\n",
    "import matplotlib.pyplot as plt\n",
    "\n",
    "# Plot random_walk\n",
    "\n",
    "plt.plot(random_walk)\n",
    "\n",
    "# Show the plot\n",
    "\n",
    "plt.show()"
   ]
  },
  {
   "cell_type": "code",
   "execution_count": null,
   "id": "76f3f4e6",
   "metadata": {},
   "outputs": [],
   "source": [
    "# NumPy is imported; seed is set\n",
    "\n",
    "# Initialize all_walks (don't change this line)\n",
    "all_walks = []\n",
    "\n",
    "# Simulate random walk five times\n",
    "for i in range(5) :\n",
    "\n",
    "    # Code from before\n",
    "    random_walk = [0]\n",
    "    for x in range(100) :\n",
    "        step = random_walk[-1]\n",
    "        dice = np.random.randint(1,7)\n",
    "\n",
    "        if dice <= 2:\n",
    "            step = max(0, step - 1)\n",
    "        elif dice <= 5:\n",
    "            step = step + 1\n",
    "        else:\n",
    "            step = step + np.random.randint(1,7)\n",
    "        random_walk.append(step)\n",
    "\n",
    "    # Append random_walk to all_walks\n",
    "    all_walks.append(random_walk)\n",
    "\n",
    "# Print all_walks\n",
    "print(all_walks)"
   ]
  },
  {
   "cell_type": "code",
   "execution_count": null,
   "id": "70cf5efa",
   "metadata": {},
   "outputs": [],
   "source": [
    "# numpy and matplotlib imported, seed set.\n",
    "\n",
    "# initialize and populate all_walks\n",
    "all_walks = []\n",
    "for i in range(5) :\n",
    "    random_walk = [0]\n",
    "    for x in range(100) :\n",
    "        step = random_walk[-1]\n",
    "        dice = np.random.randint(1,7)\n",
    "        if dice <= 2:\n",
    "            step = max(0, step - 1)\n",
    "        elif dice <= 5:\n",
    "            step = step + 1\n",
    "        else:\n",
    "            step = step + np.random.randint(1,7)\n",
    "        random_walk.append(step)\n",
    "    all_walks.append(random_walk)\n",
    "\n",
    "# Convert all_walks to NumPy array: np_aw\n",
    "np_aw = np.array(all_walks)\n",
    "\n",
    "# Plot np_aw and show\n",
    "plt.plot(np_aw)\n",
    "plt.show()\n",
    "\n",
    "# Clear the figure\n",
    "plt.clf()\n",
    "\n",
    "# Transpose np_aw: np_aw_t\n",
    "np_aw_t = np.transpose(np_aw)\n",
    "\n",
    "# Plot np_aw_t and show\n",
    "plt.plot(np_aw_t)\n",
    "plt.show()"
   ]
  },
  {
   "cell_type": "code",
   "execution_count": null,
   "id": "dbf9e8c2",
   "metadata": {},
   "outputs": [],
   "source": [
    "# numpy and matplotlib imported, seed set\n",
    "\n",
    "# clear the plot so it doesn't get cluttered if you run this many times\n",
    "plt.clf()\n",
    "\n",
    "# Simulate random walk 20 times\n",
    "all_walks = []\n",
    "for i in range(20) :\n",
    "    random_walk = [0]\n",
    "    for x in range(100) :\n",
    "        step = random_walk[-1]\n",
    "        dice = np.random.randint(1,7)\n",
    "        if dice <= 2:\n",
    "            step = max(0, step - 1)\n",
    "        elif dice <= 5:\n",
    "            step = step + 1\n",
    "        else:\n",
    "            step = step + np.random.randint(1,7)\n",
    "\n",
    "        # Implement clumsiness\n",
    "        if np.random.rand() <= 0.005 :\n",
    "            step = 0\n",
    "\n",
    "        random_walk.append(step)\n",
    "    all_walks.append(random_walk)\n",
    "\n",
    "# Create and plot np_aw_t\n",
    "np_aw_t = np.transpose(np.array(all_walks))\n",
    "plt.plot(np_aw_t)\n",
    "plt.show()"
   ]
  },
  {
   "cell_type": "code",
   "execution_count": null,
   "id": "c0a6caaa",
   "metadata": {},
   "outputs": [],
   "source": [
    "# numpy and matplotlib imported, seed set\n",
    "\n",
    "# Simulate random walk 500 times\n",
    "all_walks = []\n",
    "for i in range(500) :\n",
    "    random_walk = [0]\n",
    "    for x in range(100) :\n",
    "        step = random_walk[-1]\n",
    "        dice = np.random.randint(1,7)\n",
    "        if dice <= 2:\n",
    "            step = max(0, step - 1)\n",
    "        elif dice <= 5:\n",
    "            step = step + 1\n",
    "        else:\n",
    "            step = step + np.random.randint(1,7)\n",
    "        if np.random.rand() <= 0.001 :\n",
    "            step = 0\n",
    "        random_walk.append(step)\n",
    "    all_walks.append(random_walk)\n",
    "\n",
    "# Create and plot np_aw_t\n",
    "np_aw_t = np.transpose(np.array(all_walks))\n",
    "\n",
    "# Select last row from np_aw_t: ends\n",
    "ends = np_aw_t[-1,:]\n",
    "\n",
    "# Plot histogram of ends, display plot\n",
    "plt.hist(ends)\n",
    "plt.show()"
   ]
  },
  {
   "cell_type": "code",
   "execution_count": null,
   "id": "011a9331",
   "metadata": {},
   "outputs": [],
   "source": []
  }
 ],
 "metadata": {
  "kernelspec": {
   "display_name": "Python 3 (ipykernel)",
   "language": "python",
   "name": "python3"
  },
  "language_info": {
   "codemirror_mode": {
    "name": "ipython",
    "version": 3
   },
   "file_extension": ".py",
   "mimetype": "text/x-python",
   "name": "python",
   "nbconvert_exporter": "python",
   "pygments_lexer": "ipython3",
   "version": "3.11.3"
  }
 },
 "nbformat": 4,
 "nbformat_minor": 5
}
